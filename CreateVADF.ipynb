{
 "cells": [
  {
   "cell_type": "markdown",
   "id": "53b78296",
   "metadata": {},
   "source": [
    "First load some utility modules"
   ]
  },
  {
   "cell_type": "code",
   "execution_count": 5,
   "id": "b079fd96",
   "metadata": {},
   "outputs": [],
   "source": [
    "from stemutils.io import *\n",
    "import json"
   ]
  },
  {
   "cell_type": "markdown",
   "id": "57be4960",
   "metadata": {},
   "source": [
    "Next we define the bulk of the script that we are going to modify for each training set"
   ]
  },
  {
   "cell_type": "code",
   "execution_count": 27,
   "id": "9ac95224",
   "metadata": {},
   "outputs": [],
   "source": [
    "def get_script_text(dp):\n",
    "    return f'''\n",
    "from stemutils.io import *\n",
    "\n",
    "from stemseg.processing_funcs import *\n",
    "\n",
    "def plot_vadf(ax, r1, r2, **kwargs):\n",
    "    angs = np.linspace(0, 2*np.pi, 300)\n",
    "\n",
    "    x1, y1 = np.sin(angs)*r1, np.cos(angs)*r1\n",
    "    x2, y2 = np.sin(angs)*r2, np.cos(angs)*r2\n",
    "\n",
    "    ax.plot(x1,y1, c = 'blue', lw= 3, **kwargs)\n",
    "    ax.plot(x2,y2, c = 'blue', lw= 3, **kwargs)\n",
    "\n",
    "dp = Path('{dp}')\n",
    "raw_dataset = hs.load(dp,lazy=True)\n",
    "\n",
    "sig = pxm.signals.ElectronDiffraction2D(raw_dataset)\n",
    "sig.set_diffraction_calibration(0.00981)\n",
    "\n",
    "fsig = sig.transpose()\n",
    "\n",
    "fsig.plot()\n",
    "\n",
    "ffsig = sig.max()\n",
    "\n",
    "ffsig_plot = hs.plot.plot_images(ffsig, vmax = 30, label = str(dp).split('/')[-2] + ':')\n",
    "\n",
    "ax = ffsig_plot[0]\n",
    "\n",
    "plot_vadf(ax, 0.11, 0.95)\n",
    "\n",
    "vadf_path = dp.redirect('VADF', 1)\n",
    "\n",
    "vadf_path.mk()\n",
    "\n",
    "vadf_path.exists()\n",
    "\n",
    "vadf_path.redirect('max_pattern_vd.jpg', 0)\n",
    "\n",
    "ax.figure.savefig(vadf_path.redirect('max_pattern_vd.jpg', 0))\n",
    "\n",
    "circular_roi = hs.roi.CircleROI(cx = 0.0, cy= 0.0, r =0.95, r_inner = 0.11)\n",
    "\n",
    "roi2D = circular_roi.interactive(fsig, color=\"blue\")\n",
    "\n",
    "annsum = np.nan_to_num(roi2D.data, 0)\n",
    "\n",
    "vadf_fig = plt.figure()\n",
    "plt.imshow(annsum.sum(axis=(0,1)),cmap='gray')\n",
    "plt.xticks([])\n",
    "plt.yticks([])\n",
    "\n",
    "vadf_fig.savefig(vadf_path.redirect('vadf.jpg', 0))\n",
    "'''\n",
    "\n",
    "def job_submission_script(fpath, lpath):\n",
    "    return f'''\n",
    "#!/bin/bash\n",
    "#$ -l h_rt=1:00:00\n",
    "#$ -cwd\n",
    "#$ -P e02\n",
    "#$ -l m_mem_free=64G\n",
    "#$ -o {lpath}\n",
    "#$ -e {lpath}\n",
    "\n",
    "\n",
    "module load python/epsic3.7\n",
    "module load cuda/10.1\n",
    "python {fpath}\n",
    "\n",
    "'''"
   ]
  },
  {
   "cell_type": "markdown",
   "id": "b47f5492",
   "metadata": {},
   "source": [
    "Now we need to create a list of file paths for the datasets you want to train on.\n",
    "You can do this however you like - I like to use this walk function within a list comprehension, using the \"if\" to exclude things"
   ]
  },
  {
   "cell_type": "code",
   "execution_count": 28,
   "id": "81ed88c8",
   "metadata": {},
   "outputs": [],
   "source": [
    "fdp = Path('/dls/science/groups/imaging/ePSIC_students/Andy_Bridger/mg28034-1/processing/Merlin/Calibrated/O3_pure')\n",
    "\n",
    "dps = [dp for dp in fdp.walk('.hdf5','binned', max_depth =1)]"
   ]
  },
  {
   "cell_type": "code",
   "execution_count": 29,
   "id": "f2f23789",
   "metadata": {},
   "outputs": [
    {
     "data": {
      "text/plain": [
       "[Path('/dls/science/groups/imaging/ePSIC_students/Andy_Bridger/mg28034-1/processing/Merlin/Calibrated/O3_pure/20210305 115625/20210305_115625.hdf5'),\n",
       " Path('/dls/science/groups/imaging/ePSIC_students/Andy_Bridger/mg28034-1/processing/Merlin/Calibrated/O3_pure/20210305 133334/20210305_133334.hdf5'),\n",
       " Path('/dls/science/groups/imaging/ePSIC_students/Andy_Bridger/mg28034-1/processing/Merlin/Calibrated/O3_pure/20210305 135737/20210305_135737.hdf5'),\n",
       " Path('/dls/science/groups/imaging/ePSIC_students/Andy_Bridger/mg28034-1/processing/Merlin/Calibrated/O3_pure/20210305 140302/20210305_140302.hdf5'),\n",
       " Path('/dls/science/groups/imaging/ePSIC_students/Andy_Bridger/mg28034-1/processing/Merlin/Calibrated/O3_pure/20210305 115108/20210305_115108.hdf5'),\n",
       " Path('/dls/science/groups/imaging/ePSIC_students/Andy_Bridger/mg28034-1/processing/Merlin/Calibrated/O3_pure/20210305 124516/20210305_124516.hdf5'),\n",
       " Path('/dls/science/groups/imaging/ePSIC_students/Andy_Bridger/mg28034-1/processing/Merlin/Calibrated/O3_pure/20210305 142824/20210305_142824.hdf5'),\n",
       " Path('/dls/science/groups/imaging/ePSIC_students/Andy_Bridger/mg28034-1/processing/Merlin/Calibrated/O3_pure/20210305 121322/20210305_121322.hdf5'),\n",
       " Path('/dls/science/groups/imaging/ePSIC_students/Andy_Bridger/mg28034-1/processing/Merlin/Calibrated/O3_pure/20210305 121028/20210305_121028.hdf5'),\n",
       " Path('/dls/science/groups/imaging/ePSIC_students/Andy_Bridger/mg28034-1/processing/Merlin/Calibrated/O3_pure/20210305 115400/20210305_115400.hdf5'),\n",
       " Path('/dls/science/groups/imaging/ePSIC_students/Andy_Bridger/mg28034-1/processing/Merlin/Calibrated/O3_pure/20210305 120523/20210305_120523.hdf5'),\n",
       " Path('/dls/science/groups/imaging/ePSIC_students/Andy_Bridger/mg28034-1/processing/Merlin/Calibrated/O3_pure/20210305 115905/20210305_115905.hdf5'),\n",
       " Path('/dls/science/groups/imaging/ePSIC_students/Andy_Bridger/mg28034-1/processing/Merlin/Calibrated/O3_pure/20210305 120115/20210305_120115.hdf5'),\n",
       " Path('/dls/science/groups/imaging/ePSIC_students/Andy_Bridger/mg28034-1/processing/Merlin/Calibrated/O3_pure/20210305 120827/20210305_120827.hdf5'),\n",
       " Path('/dls/science/groups/imaging/ePSIC_students/Andy_Bridger/mg28034-1/processing/Merlin/Calibrated/O3_pure/20210305 121609/20210305_121609.hdf5'),\n",
       " Path('/dls/science/groups/imaging/ePSIC_students/Andy_Bridger/mg28034-1/processing/Merlin/Calibrated/O3_pure/20210305 142246/20210305_142246.hdf5'),\n",
       " Path('/dls/science/groups/imaging/ePSIC_students/Andy_Bridger/mg28034-1/processing/Merlin/Calibrated/O3_pure/20210305 132349/20210305_132349.hdf5')]"
      ]
     },
     "execution_count": 29,
     "metadata": {},
     "output_type": "execute_result"
    }
   ],
   "source": [
    "dps"
   ]
  },
  {
   "cell_type": "markdown",
   "id": "401560e6",
   "metadata": {},
   "source": [
    "Again, define where to save these scripts and their logs"
   ]
  },
  {
   "cell_type": "code",
   "execution_count": 30,
   "id": "70ba4c3e",
   "metadata": {},
   "outputs": [],
   "source": [
    "script_path = Path('/dls/science/groups/imaging/ePSIC_students/Andy_Bridger/ClusterJobs/LoopedVADF/mg28034/O3_pure')\n",
    "log_path = script_path.redirect('logs',0)"
   ]
  },
  {
   "cell_type": "code",
   "execution_count": 31,
   "id": "90da845f",
   "metadata": {},
   "outputs": [
    {
     "data": {
      "text/plain": [
       "Path('/dls/science/groups/imaging/ePSIC_students/Andy_Bridger/ClusterJobs/LoopedVADF/mg28034/O3_pure/logs')"
      ]
     },
     "execution_count": 31,
     "metadata": {},
     "output_type": "execute_result"
    }
   ],
   "source": [
    "log_path.mk()\n",
    "log_path"
   ]
  },
  {
   "cell_type": "code",
   "execution_count": 32,
   "id": "d5c33d33",
   "metadata": {},
   "outputs": [],
   "source": [
    "for dp in dps:\n",
    "    timestamp = dp.parts[-2].replace(' ', '_')\n",
    "        \n",
    "    #Get our script and where we are going to save it \n",
    "\n",
    "    example_script = get_script_text(dp)\n",
    "    script_py_path = script_path.redirect(f'{timestamp}_vadf.py', 0)\n",
    "    \n",
    "    #Get our submission script and where we are going to save that \n",
    "    \n",
    "    script_sub_path = script_py_path.redirect(f'sub_job_{timestamp}.sh')\n",
    "    script_sub = job_submission_script(script_py_path, log_path)\n",
    "    \n",
    "    #Save these scripts \n",
    "    \n",
    "    with open(script_py_path, 'w') as f:\n",
    "        f.write(example_script)\n",
    "\n",
    "    with open(script_sub_path, 'w') as f:\n",
    "        f.write(script_sub)"
   ]
  },
  {
   "cell_type": "markdown",
   "id": "afa39d91",
   "metadata": {},
   "source": [
    "This is much less computationally intensive, would probably be good manners to run it on the global cluster rather than hamilton"
   ]
  },
  {
   "cell_type": "markdown",
   "id": "02a87569",
   "metadata": {},
   "source": [
    "> module load global/cluster"
   ]
  },
  {
   "cell_type": "markdown",
   "id": "4c71e6f8",
   "metadata": {},
   "source": [
    "> for f in ./*.sh; do qsub $f; done"
   ]
  },
  {
   "cell_type": "code",
   "execution_count": null,
   "id": "64c6aba5",
   "metadata": {},
   "outputs": [],
   "source": []
  }
 ],
 "metadata": {
  "kernelspec": {
   "display_name": "Python 3.7 - EPSIC [DLS Conda]",
   "language": "python",
   "name": "conda-env-DLS_Conda-epsic3.7-kernel.json"
  },
  "language_info": {
   "codemirror_mode": {
    "name": "ipython",
    "version": 3
   },
   "file_extension": ".py",
   "mimetype": "text/x-python",
   "name": "python",
   "nbconvert_exporter": "python",
   "pygments_lexer": "ipython3",
   "version": "3.7.6"
  }
 },
 "nbformat": 4,
 "nbformat_minor": 5
}
